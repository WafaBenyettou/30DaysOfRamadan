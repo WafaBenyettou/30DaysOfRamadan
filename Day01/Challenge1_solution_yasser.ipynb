{
 "cells": [
  {
   "cell_type": "code",
   "execution_count": 7,
   "id": "c7e05abd",
   "metadata": {},
   "outputs": [
    {
     "name": "stdout",
     "output_type": "stream",
     "text": [
      "donner le nombre des tests 4\n",
      "donner moi le cas de test 2 3\n",
      "King has  2  cars that seat 5 each and  3  cars that seat 7 each. So, 31  people can travel together.\n",
      "donner moi le cas de test 4 8\n",
      "King has  4  cars that seat 5 each and  8  cars that seat 7 each. So, 76  people can travel together.\n",
      "donner moi le cas de test 5 9\n",
      "King has  5  cars that seat 5 each and  9  cars that seat 7 each. So, 88  people can travel together.\n",
      "donner moi le cas de test 14 8\n",
      "King has  14  cars that seat 5 each and  8  cars that seat 7 each. So, 126  people can travel together.\n"
     ]
    }
   ],
   "source": [
    "T=int(input(\"donner le nombre des tests \"))\n",
    "for i in range(T):\n",
    "    test=input(\"donner moi le cas de test \")\n",
    "    test=test.split()\n",
    "    max=int(test[0])*5+int(test[1])*7\n",
    "    print (\"King has \",test[0],\" cars that seat 5 each and \",test[1],\" cars that seat 7 each. So,\",max,\" people can travel together.\")\n",
    "    \n",
    "\n",
    "\n"
   ]
  }
 ],
 "metadata": {
  "kernelspec": {
   "display_name": "Python 3 (ipykernel)",
   "language": "python",
   "name": "python3"
  },
  "language_info": {
   "codemirror_mode": {
    "name": "ipython",
    "version": 3
   },
   "file_extension": ".py",
   "mimetype": "text/x-python",
   "name": "python",
   "nbconvert_exporter": "python",
   "pygments_lexer": "ipython3",
   "version": "3.9.12"
  }
 },
 "nbformat": 4,
 "nbformat_minor": 5
}
